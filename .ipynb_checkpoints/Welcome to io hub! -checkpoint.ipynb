{
 "cells": [
  {
   "cell_type": "markdown",
   "metadata": {},
   "source": [
    "**<font color=\"red\" size=5>Note :</font>**\n",
    "<font size=5>\n",
    "Run the Cell Below to Start io Hub Setup\n",
    "</font>\n"
   ]
  },
  {
   "cell_type": "code",
   "execution_count": 1,
   "metadata": {},
   "outputs": [
    {
     "data": {
      "text/html": [
       "<script>var py = Jupyter.notebook.kernel</script>"
      ],
      "text/plain": [
       "<IPython.core.display.HTML object>"
      ]
     },
     "metadata": {},
     "output_type": "display_data"
    },
    {
     "data": {
      "text/html": [
       "<style>\n",
       "div.output_subarea {\n",
       "    padding: 0;\n",
       "}\n",
       "div.run_this_cell{\n",
       "    padding: 0;\n",
       "}\n",
       "</style>"
      ],
      "text/plain": [
       "<IPython.core.display.HTML object>"
      ]
     },
     "metadata": {},
     "output_type": "display_data"
    },
    {
     "data": {
      "text/html": [
       "<style>\n",
       "*{margin:0; padding:0;} html, body,              .container{margin:0;!important padding:0;!important}              .container { width:100% !important;}\n",
       "</style>"
      ],
      "text/plain": [
       "<IPython.core.display.HTML object>"
      ]
     },
     "metadata": {},
     "output_type": "display_data"
    },
    {
     "data": {
      "text/html": [
       "<style>\n",
       "div.text_cell.rendered { /* Customize text cells */\n",
       "    font-size:1.1em;\n",
       "    line-height:1.4em;\n",
       "}\n",
       "</style>"
      ],
      "text/plain": [
       "<IPython.core.display.HTML object>"
      ]
     },
     "metadata": {},
     "output_type": "display_data"
    },
    {
     "data": {
      "text/html": [
       "<style>\n",
       "#notebook-container {\n",
       "    box-shadow: 0px 0px 0px 0px rgba(87, 87, 87, 0.2);\n",
       "}\n",
       "div#notebook {\n",
       "    background-color: White;\n",
       "}\n",
       ".end_space {\n",
       "    background-color: White;\n",
       "}\n",
       "</style>"
      ],
      "text/plain": [
       "<IPython.core.display.HTML object>"
      ]
     },
     "metadata": {},
     "output_type": "display_data"
    },
    {
     "data": {
      "text/html": [
       "<style>\n",
       ".input_prompt {\n",
       "    margin:0;\n",
       "    padding:0;\n",
       "    min-width: 0ex;\n",
       "    font-size:.7em;\n",
       "}\n",
       ".prompt {\n",
       "    min-width: 2vw;\n",
       "}\n",
       "div.input_prompt bdi {\n",
       "    display: none;\n",
       "}\n",
       "div.input_prompt i {\n",
       "    font-size: 2em;\n",
       "    opacity: 0.7;\n",
       "}\n",
       "\n",
       "div.output_subarea { /* Makes html output width larger */\n",
       "    max-width: 100%\n",
       "}\n",
       "</style>"
      ],
      "text/plain": [
       "<IPython.core.display.HTML object>"
      ]
     },
     "metadata": {},
     "output_type": "display_data"
    },
    {
     "data": {
      "application/javascript": [
       "\n",
       "// Movement between Cells\n",
       "Jupyter.keyboard_manager.command_shortcuts.add_shortcut('-', 'jupyter-notebook:select-previous-cell');\n",
       "Jupyter.keyboard_manager.command_shortcuts.add_shortcut('=', 'jupyter-notebook:select-next-cell');\n",
       "Jupyter.keyboard_manager.command_shortcuts.add_shortcut('shift--', 'jupyter-notebook:extend-selection-above');\n",
       "Jupyter.keyboard_manager.command_shortcuts.add_shortcut('shift-=', 'jupyter-notebook:extend-selection-below');\n",
       "Jupyter.keyboard_manager.command_shortcuts.add_shortcut('Ctrl-Shift--', 'jupyter-notebook:move-cell-up');\n",
       "Jupyter.keyboard_manager.command_shortcuts.add_shortcut('Ctrl-Shift-=', 'jupyter-notebook:move-cell-down');\n",
       "\n",
       "// Controls Collapssing\n",
       "Jupyter.keyboard_manager.command_shortcuts.add_shortcut(']', 'collapsible_headings:uncollapse_heading');\n",
       "Jupyter.keyboard_manager.command_shortcuts.add_shortcut('[', 'collapsible_headings:collapse_heading');\n",
       "Jupyter.keyboard_manager.command_shortcuts.add_shortcut('shift-]', 'collapsible_headings:uncollapse_all_headings');\n",
       "Jupyter.keyboard_manager.command_shortcuts.add_shortcut('shift-[', 'collapsible_headings:collapse_all_headings');\n",
       "\n",
       "// SKETCHY ONE // Entre command mode\n",
       "Jupyter.keyboard_manager.edit_shortcuts.add_shortcut('shift-backspace', 'jupyter-notebook:enter-command-mode');\n"
      ],
      "text/plain": [
       "<IPython.core.display.Javascript object>"
      ]
     },
     "metadata": {},
     "output_type": "display_data"
    },
    {
     "data": {
      "text/html": [
       "<style>\n",
       "body {\n",
       "    -webkit-overflow-scrolling: touch;\n",
       "}\n",
       "</style>"
      ],
      "text/plain": [
       "<IPython.core.display.HTML object>"
      ]
     },
     "metadata": {},
     "output_type": "display_data"
    },
    {
     "data": {
      "text/html": [
       "<style>\n",
       "div.run_this_cell i {\n",
       "    font-size: 2em;\n",
       "    opacity: 0.7;\n",
       "}\n",
       "</style>"
      ],
      "text/plain": [
       "<IPython.core.display.HTML object>"
      ]
     },
     "metadata": {},
     "output_type": "display_data"
    },
    {
     "data": {
      "text/html": [
       "\n",
       "<h2>&nbsp</h2>\n",
       "<font size=12 face=\"Georgia\"> Welcome to io!</font>\n"
      ],
      "text/plain": [
       "<IPython.core.display.HTML object>"
      ]
     },
     "metadata": {},
     "output_type": "display_data"
    },
    {
     "data": {
      "text/html": [
       "\n",
       "<blockquote> <font size=5> <b><font color=\"magenta\">io : </font></b> <i><font color=\"gray\">\"where everything is one\"</font></i> </blockquote>\n"
      ],
      "text/plain": [
       "<IPython.core.display.HTML object>"
      ]
     },
     "metadata": {},
     "output_type": "display_data"
    },
    {
     "data": {
      "text/html": [
       "\n",
       "<p><b>What is io?</b></p>\n",
       "\n",
       "<p><b><font color=\"magenta\">io</font></b> is a new <a href=\"http://jupyter.org/\">Jupyter based OS</a> that makes installing and using\n",
       "<font color=\"orange\">Jupyter</font> a breeze!</p>\n"
      ],
      "text/plain": [
       "<IPython.core.display.HTML object>"
      ]
     },
     "metadata": {},
     "output_type": "display_data"
    },
    {
     "data": {
      "text/html": [
       "\n",
       "<blockquote> <b>1. Make scientific coding simple<br>\n",
       "2. Make sharing ideas easy<br>\n",
       "3. Let people work on any device <font color=\"gray\">(ipads, chromebooks...)</font></b></blockquote> \n"
      ],
      "text/plain": [
       "<IPython.core.display.HTML object>"
      ]
     },
     "metadata": {},
     "output_type": "display_data"
    },
    {
     "data": {
      "text/html": [
       "\n",
       "<p>This <b>youtube video</b> gives a brief overview of <b><font color=\"magenta\">io :</font></b></p>\n",
       "<div class=\"row\"><div class=\"col-xs-12 col-md-offset-3 col-md-6\">\n",
       "<div class=\"embed-responsive embed-responsive-16by9\">\n",
       "  <iframe class=\"embed-responsive-item\" \n",
       "  src='https://www.youtube.com/embed/SrREjZSPqBI'></iframe></div>\n",
       "</div></div>\n"
      ],
      "text/plain": [
       "<IPython.core.display.HTML object>"
      ]
     },
     "metadata": {},
     "output_type": "display_data"
    },
    {
     "data": {
      "text/html": [
       "\n",
       "<h3 style=\"margin-bottom:1.1em\"> Start using <font color=\"magenta\" size=5>io : </font></h3>\n"
      ],
      "text/plain": [
       "<IPython.core.display.HTML object>"
      ]
     },
     "metadata": {},
     "output_type": "display_data"
    },
    {
     "data": {
      "text/html": [
       "\n",
       "<p style=\"margin-bottom:1.1em\">Ready to try out  <b><font color=\"magenta\">io?</font></b> Setup is a breeze! Just click the\n",
       "<font color=\"green\">Start Button</font> and your done!</p>\n"
      ],
      "text/plain": [
       "<IPython.core.display.HTML object>"
      ]
     },
     "metadata": {},
     "output_type": "display_data"
    },
    {
     "data": {
      "text/html": [
       "\n",
       "<p style=\"margin-bottom:1.1em\"><b><font color=\"red\"> Tip : </font></b> You can always come back and click the \n",
       "<font color=\"green\">Start Button</font> again to <b>reset your computer,</b>\n",
       "however, this will <font color=\"red\">delete your files!</font></p>\n",
       "<p>&nbsp</p>\n"
      ],
      "text/plain": [
       "<IPython.core.display.HTML object>"
      ]
     },
     "metadata": {},
     "output_type": "display_data"
    },
    {
     "data": {
      "application/vnd.jupyter.widget-view+json": {
       "model_id": "b52f959fc6e9443083f1651ca5d4a785",
       "version_major": 2,
       "version_minor": 0
      },
      "text/plain": [
       "HBox(children=(Button(button_style='success', description='start', style=ButtonStyle()), IntProgress(value=0, …"
      ]
     },
     "metadata": {},
     "output_type": "display_data"
    },
    {
     "data": {
      "text/html": [
       "\n",
       "<h1>&nbsp</h1><h1>&nbsp</h1><h1>&nbsp</h1>\n"
      ],
      "text/plain": [
       "<IPython.core.display.HTML object>"
      ]
     },
     "metadata": {},
     "output_type": "display_data"
    },
    {
     "name": "stdout",
     "output_type": "stream",
     "text": [
      "mv: cannot stat '/home/jovyan/home/jovyan/Welcome_to_io_Hub/io_docker_setup/cytoscape.min.js': No such file or directory\n",
      "mv: cannot stat '/home/jovyan/home/jovyan/Welcome_to_io_Hub/io_docker_setup/custom.js': No such file or directory\n"
     ]
    }
   ],
   "source": [
    "output = ! rm -rf io_docker_setup && git clone https://github.com/pupster90/io_docker_setup.git\n",
    "output = ! rm -rf Setup_Notebook && git clone https://github.com/pupster90/io_View.git\n",
    "%run io_View/embed.ipynb\n",
    "output = ! rm -rf io_Start_Screen && git clone https://github.com/pupster90/io_Start_Screen.git\n",
    "%run io_Start_Screen/embed.ipynb"
   ]
  },
  {
   "cell_type": "code",
   "execution_count": null,
   "metadata": {},
   "outputs": [],
   "source": []
  }
 ],
 "metadata": {
  "hide_input": false,
  "kernelspec": {
   "display_name": "Python 3",
   "language": "python",
   "name": "python3"
  },
  "language_info": {
   "codemirror_mode": {
    "name": "ipython",
    "version": 3
   },
   "file_extension": ".py",
   "mimetype": "text/x-python",
   "name": "python",
   "nbconvert_exporter": "python",
   "pygments_lexer": "ipython3",
   "version": "3.6.6"
  },
  "toc": {
   "base_numbering": 1,
   "nav_menu": {},
   "number_sections": true,
   "sideBar": true,
   "skip_h1_title": false,
   "title_cell": "Table of Contents",
   "title_sidebar": "Contents",
   "toc_cell": false,
   "toc_position": {},
   "toc_section_display": true,
   "toc_window_display": false
  },
  "varInspector": {
   "cols": {
    "lenName": 16,
    "lenType": 16,
    "lenVar": 40
   },
   "kernels_config": {
    "python": {
     "delete_cmd_postfix": "",
     "delete_cmd_prefix": "del ",
     "library": "var_list.py",
     "varRefreshCmd": "print(var_dic_list())"
    },
    "r": {
     "delete_cmd_postfix": ") ",
     "delete_cmd_prefix": "rm(",
     "library": "var_list.r",
     "varRefreshCmd": "cat(var_dic_list()) "
    }
   },
   "types_to_exclude": [
    "module",
    "function",
    "builtin_function_or_method",
    "instance",
    "_Feature"
   ],
   "window_display": false
  },
  "widgets": {
   "application/vnd.jupyter.widget-state+json": {
    "state": {
     "001d365bc6644c458052db176e6a3538": {
      "model_module": "@jupyter-widgets/controls",
      "model_module_version": "1.2.0",
      "model_name": "ButtonModel",
      "state": {
       "button_style": "success",
       "description": "start",
       "layout": "IPY_MODEL_5cd3a64746b5419b97c0f96a4a4ed936",
       "style": "IPY_MODEL_07cc1f2cb8f94e7eb09588c2269e80e7"
      }
     },
     "02fc89ebc89648d1b77af4449f36e480": {
      "model_module": "@jupyter-widgets/base",
      "model_module_version": "1.0.0",
      "model_name": "LayoutModel",
      "state": {
       "visibility": "hidden"
      }
     },
     "048c87f6167448b588505054583ad299": {
      "model_module": "@jupyter-widgets/base",
      "model_module_version": "1.0.0",
      "model_name": "LayoutModel",
      "state": {
       "visibility": "hidden"
      }
     },
     "0564707fdc1b4887ba547ea4e491b363": {
      "model_module": "@jupyter-widgets/base",
      "model_module_version": "1.0.0",
      "model_name": "LayoutModel",
      "state": {
       "align_items": "center"
      }
     },
     "05931830ec264c2c973f309048ba820a": {
      "model_module": "@jupyter-widgets/controls",
      "model_module_version": "1.2.0",
      "model_name": "IntProgressModel",
      "state": {
       "bar_style": "success",
       "description": "Loading:",
       "layout": "IPY_MODEL_02fc89ebc89648d1b77af4449f36e480",
       "max": 8,
       "style": "IPY_MODEL_080353f4523341899022b5bff7a79e46"
      }
     },
     "0629063c43554c62afd97390e23cb41c": {
      "model_module": "@jupyter-widgets/base",
      "model_module_version": "1.0.0",
      "model_name": "LayoutModel",
      "state": {
       "align_items": "center"
      }
     },
     "07b4aa59f360431abdc69516be5f76b8": {
      "model_module": "@jupyter-widgets/controls",
      "model_module_version": "1.2.0",
      "model_name": "IntProgressModel",
      "state": {
       "bar_style": "success",
       "description": "Loading:",
       "layout": "IPY_MODEL_bcf962aa25e8446a9cd87b5cee15d9b7",
       "max": 8,
       "style": "IPY_MODEL_73984cd3deaa4ac8b7dce229889f993f"
      }
     },
     "07cc1f2cb8f94e7eb09588c2269e80e7": {
      "model_module": "@jupyter-widgets/controls",
      "model_module_version": "1.2.0",
      "model_name": "ButtonStyleModel",
      "state": {}
     },
     "080353f4523341899022b5bff7a79e46": {
      "model_module": "@jupyter-widgets/controls",
      "model_module_version": "1.2.0",
      "model_name": "ProgressStyleModel",
      "state": {
       "description_width": ""
      }
     },
     "0a5d88702c1d42588ee7af0d5e56e278": {
      "model_module": "@jupyter-widgets/base",
      "model_module_version": "1.0.0",
      "model_name": "LayoutModel",
      "state": {
       "align_items": "center"
      }
     },
     "0aee2b00b93e454c859033c468a23845": {
      "model_module": "@jupyter-widgets/controls",
      "model_module_version": "1.2.0",
      "model_name": "ButtonModel",
      "state": {
       "button_style": "success",
       "description": "start",
       "layout": "IPY_MODEL_120529bb79b7460cbd259cb881be2fa6",
       "style": "IPY_MODEL_d81515ee841244dd97aff0d1c3beb8f6"
      }
     },
     "0f0181877bb74510ac4ddaa999b8c236": {
      "model_module": "@jupyter-widgets/controls",
      "model_module_version": "1.2.0",
      "model_name": "IntProgressModel",
      "state": {
       "bar_style": "success",
       "description": "Loading:",
       "layout": "IPY_MODEL_8fc8293cae1d4513a0c6fc56d32f09f3",
       "max": 8,
       "style": "IPY_MODEL_4e20fdc5edbc43668590192055ec8d99"
      }
     },
     "120529bb79b7460cbd259cb881be2fa6": {
      "model_module": "@jupyter-widgets/base",
      "model_module_version": "1.0.0",
      "model_name": "LayoutModel",
      "state": {}
     },
     "13c00e44eacf4beebbf347db223bbb89": {
      "model_module": "@jupyter-widgets/controls",
      "model_module_version": "1.2.0",
      "model_name": "DescriptionStyleModel",
      "state": {
       "description_width": ""
      }
     },
     "14ce9b292cf34daaa52515601e5bf622": {
      "model_module": "@jupyter-widgets/controls",
      "model_module_version": "1.2.0",
      "model_name": "ProgressStyleModel",
      "state": {
       "description_width": ""
      }
     },
     "176a9d92f17b47ffac9b6a3a8b07a727": {
      "model_module": "@jupyter-widgets/controls",
      "model_module_version": "1.2.0",
      "model_name": "HTMLMathModel",
      "state": {
       "layout": "IPY_MODEL_048c87f6167448b588505054583ad299",
       "style": "IPY_MODEL_629fd45594e541b5bf0fe5c6c9f78a50",
       "value": "<h1 class='text-success' style='margin:0'>&nbsp Finished!</h1>"
      }
     },
     "1fc12b16b7cc4d0aad4b3bbf30d99800": {
      "model_module": "@jupyter-widgets/controls",
      "model_module_version": "1.2.0",
      "model_name": "ButtonStyleModel",
      "state": {}
     },
     "22922cb060fa4eee8c05aef9d7e9f55f": {
      "model_module": "@jupyter-widgets/controls",
      "model_module_version": "1.2.0",
      "model_name": "DescriptionStyleModel",
      "state": {
       "description_width": ""
      }
     },
     "2c6e101d0e6a43dfb428bd67421e32ab": {
      "model_module": "@jupyter-widgets/base",
      "model_module_version": "1.0.0",
      "model_name": "LayoutModel",
      "state": {
       "align_items": "center"
      }
     },
     "2e0a7366732b4b4983b28f1a879b8e9b": {
      "model_module": "@jupyter-widgets/controls",
      "model_module_version": "1.2.0",
      "model_name": "IntProgressModel",
      "state": {
       "bar_style": "success",
       "description": "Loading:",
       "layout": "IPY_MODEL_3c0ad70d502141fe98491bb9e01d906c",
       "max": 8,
       "style": "IPY_MODEL_c3a60ac38f4f43d6bbfc00bece3efd87"
      }
     },
     "3379df2688284bd5ac8bf71afca185a8": {
      "model_module": "@jupyter-widgets/controls",
      "model_module_version": "1.2.0",
      "model_name": "IntProgressModel",
      "state": {
       "bar_style": "success",
       "description": "Loading:",
       "layout": "IPY_MODEL_7c26265115a04e8097aba7d1dd8c0a77",
       "max": 8,
       "style": "IPY_MODEL_14ce9b292cf34daaa52515601e5bf622"
      }
     },
     "389bde7be15e4d5880eb9c336c82f31c": {
      "model_module": "@jupyter-widgets/base",
      "model_module_version": "1.0.0",
      "model_name": "LayoutModel",
      "state": {}
     },
     "3a37b71544404eafb9332848193ce486": {
      "model_module": "@jupyter-widgets/controls",
      "model_module_version": "1.2.0",
      "model_name": "HTMLMathModel",
      "state": {
       "layout": "IPY_MODEL_e5f0379399be4b3684c07be48315f2f9",
       "style": "IPY_MODEL_13c00e44eacf4beebbf347db223bbb89",
       "value": "<h1 class='text-success' style='margin:0'>&nbsp Finished!</h1>"
      }
     },
     "3c0ad70d502141fe98491bb9e01d906c": {
      "model_module": "@jupyter-widgets/base",
      "model_module_version": "1.0.0",
      "model_name": "LayoutModel",
      "state": {
       "visibility": "hidden"
      }
     },
     "3e0e2068ce954597aee3fdc8ef68a255": {
      "model_module": "@jupyter-widgets/base",
      "model_module_version": "1.0.0",
      "model_name": "LayoutModel",
      "state": {
       "visibility": "hidden"
      }
     },
     "453391726bed4bdda49f6c9e01d68ed6": {
      "model_module": "@jupyter-widgets/base",
      "model_module_version": "1.0.0",
      "model_name": "LayoutModel",
      "state": {
       "visibility": "hidden"
      }
     },
     "486a145a5c2f4bba96a93148898c9fe8": {
      "model_module": "@jupyter-widgets/controls",
      "model_module_version": "1.2.0",
      "model_name": "ProgressStyleModel",
      "state": {
       "description_width": ""
      }
     },
     "4e20fdc5edbc43668590192055ec8d99": {
      "model_module": "@jupyter-widgets/controls",
      "model_module_version": "1.2.0",
      "model_name": "ProgressStyleModel",
      "state": {
       "description_width": ""
      }
     },
     "5031b0786a7444aaa30e1743aa6b0f66": {
      "model_module": "@jupyter-widgets/controls",
      "model_module_version": "1.2.0",
      "model_name": "HBoxModel",
      "state": {
       "children": [
        "IPY_MODEL_b33c3134c2ae47e3914087eae02448d8",
        "IPY_MODEL_0f0181877bb74510ac4ddaa999b8c236",
        "IPY_MODEL_90d8aad89c4b42069a3398aca4e7573b"
       ],
       "layout": "IPY_MODEL_0a5d88702c1d42588ee7af0d5e56e278"
      }
     },
     "54e1dc7ce3db45579c8bf24bbea57e15": {
      "model_module": "@jupyter-widgets/controls",
      "model_module_version": "1.2.0",
      "model_name": "HBoxModel",
      "state": {
       "children": [
        "IPY_MODEL_f84c5490054742c0afac1e1a3197f49f",
        "IPY_MODEL_8b7f04c0c0674c6798a653b90c64a6c5",
        "IPY_MODEL_176a9d92f17b47ffac9b6a3a8b07a727"
       ],
       "layout": "IPY_MODEL_2c6e101d0e6a43dfb428bd67421e32ab"
      }
     },
     "5cd3a64746b5419b97c0f96a4a4ed936": {
      "model_module": "@jupyter-widgets/base",
      "model_module_version": "1.0.0",
      "model_name": "LayoutModel",
      "state": {}
     },
     "60a9331e10814ac08317bdc6c5089029": {
      "model_module": "@jupyter-widgets/base",
      "model_module_version": "1.0.0",
      "model_name": "LayoutModel",
      "state": {}
     },
     "629fd45594e541b5bf0fe5c6c9f78a50": {
      "model_module": "@jupyter-widgets/controls",
      "model_module_version": "1.2.0",
      "model_name": "DescriptionStyleModel",
      "state": {
       "description_width": ""
      }
     },
     "65a9a71421bd427180335b80905e0f64": {
      "model_module": "@jupyter-widgets/controls",
      "model_module_version": "1.2.0",
      "model_name": "HTMLMathModel",
      "state": {
       "layout": "IPY_MODEL_beb69ad583ee41c69b6d2a4b079f42ac",
       "style": "IPY_MODEL_fb6d2d569ec24df3aa0a36bfeaf52298",
       "value": "<h1 class='text-success' style='margin:0'>&nbsp Finished!</h1>"
      }
     },
     "695a2f42d95c485db4aab2fc063bca22": {
      "model_module": "@jupyter-widgets/controls",
      "model_module_version": "1.2.0",
      "model_name": "HTMLMathModel",
      "state": {
       "layout": "IPY_MODEL_bea37cdd42c443c48a590baa0ff02d64",
       "style": "IPY_MODEL_22922cb060fa4eee8c05aef9d7e9f55f",
       "value": "<h1 class='text-success' style='margin:0'>&nbsp Finished!</h1>"
      }
     },
     "73984cd3deaa4ac8b7dce229889f993f": {
      "model_module": "@jupyter-widgets/controls",
      "model_module_version": "1.2.0",
      "model_name": "ProgressStyleModel",
      "state": {
       "description_width": ""
      }
     },
     "7adc1ac44f83451f983f5a5b628259f9": {
      "model_module": "@jupyter-widgets/base",
      "model_module_version": "1.0.0",
      "model_name": "LayoutModel",
      "state": {
       "visibility": "hidden"
      }
     },
     "7c26265115a04e8097aba7d1dd8c0a77": {
      "model_module": "@jupyter-widgets/base",
      "model_module_version": "1.0.0",
      "model_name": "LayoutModel",
      "state": {
       "visibility": "hidden"
      }
     },
     "874c320611a94bcd80531c4def86dcf9": {
      "model_module": "@jupyter-widgets/controls",
      "model_module_version": "1.2.0",
      "model_name": "ButtonStyleModel",
      "state": {}
     },
     "8adadffa0ab6430697a8f17d8f57f524": {
      "model_module": "@jupyter-widgets/base",
      "model_module_version": "1.0.0",
      "model_name": "LayoutModel",
      "state": {
       "align_items": "center"
      }
     },
     "8b7f04c0c0674c6798a653b90c64a6c5": {
      "model_module": "@jupyter-widgets/controls",
      "model_module_version": "1.2.0",
      "model_name": "IntProgressModel",
      "state": {
       "bar_style": "success",
       "description": "Loading:",
       "layout": "IPY_MODEL_3e0e2068ce954597aee3fdc8ef68a255",
       "max": 8,
       "style": "IPY_MODEL_486a145a5c2f4bba96a93148898c9fe8"
      }
     },
     "8e556f82b3474503969b068a88db7659": {
      "model_module": "@jupyter-widgets/base",
      "model_module_version": "1.0.0",
      "model_name": "LayoutModel",
      "state": {
       "align_items": "center"
      }
     },
     "8fc8293cae1d4513a0c6fc56d32f09f3": {
      "model_module": "@jupyter-widgets/base",
      "model_module_version": "1.0.0",
      "model_name": "LayoutModel",
      "state": {
       "visibility": "hidden"
      }
     },
     "90d8aad89c4b42069a3398aca4e7573b": {
      "model_module": "@jupyter-widgets/controls",
      "model_module_version": "1.2.0",
      "model_name": "HTMLMathModel",
      "state": {
       "layout": "IPY_MODEL_7adc1ac44f83451f983f5a5b628259f9",
       "style": "IPY_MODEL_e7752bac972c4e46bd385cabebe546e4",
       "value": "<h1 class='text-success' style='margin:0'>&nbsp Finished!</h1>"
      }
     },
     "9b051971fb57457d9bdbb04bb0181c08": {
      "model_module": "@jupyter-widgets/base",
      "model_module_version": "1.0.0",
      "model_name": "LayoutModel",
      "state": {
       "align_items": "center"
      }
     },
     "9ceb5702a1c34cc38c811bac983c1430": {
      "model_module": "@jupyter-widgets/controls",
      "model_module_version": "1.2.0",
      "model_name": "HTMLMathModel",
      "state": {
       "layout": "IPY_MODEL_ef071c943eb84ce99ef5e0a138a4e054",
       "style": "IPY_MODEL_af4a46d110a944718c52718bb79c113c",
       "value": "<h1 class='text-success' style='margin:0'>&nbsp Finished!</h1>"
      }
     },
     "9cfcbc46b03248a6a76cfeda375bdcac": {
      "model_module": "@jupyter-widgets/controls",
      "model_module_version": "1.2.0",
      "model_name": "HBoxModel",
      "state": {
       "children": [
        "IPY_MODEL_0aee2b00b93e454c859033c468a23845",
        "IPY_MODEL_af827271a3ca4bf18bf00fb543e602af",
        "IPY_MODEL_695a2f42d95c485db4aab2fc063bca22"
       ],
       "layout": "IPY_MODEL_8adadffa0ab6430697a8f17d8f57f524"
      }
     },
     "9df4c392fc1240fa9226ad657da6f2c9": {
      "model_module": "@jupyter-widgets/controls",
      "model_module_version": "1.2.0",
      "model_name": "ButtonStyleModel",
      "state": {}
     },
     "a7f4be38cfbd4d27ac9fc83a872d4b33": {
      "model_module": "@jupyter-widgets/base",
      "model_module_version": "1.0.0",
      "model_name": "LayoutModel",
      "state": {
       "visibility": "hidden"
      }
     },
     "aceaa3923afe4047a6e916d3bd819093": {
      "model_module": "@jupyter-widgets/controls",
      "model_module_version": "1.2.0",
      "model_name": "HTMLMathModel",
      "state": {
       "layout": "IPY_MODEL_a7f4be38cfbd4d27ac9fc83a872d4b33",
       "style": "IPY_MODEL_eedd045de28446bebe62fdd29dd05bbe",
       "value": "<h1 class='text-success' style='margin:0'>&nbsp Finished!</h1>"
      }
     },
     "af4a46d110a944718c52718bb79c113c": {
      "model_module": "@jupyter-widgets/controls",
      "model_module_version": "1.2.0",
      "model_name": "DescriptionStyleModel",
      "state": {
       "description_width": ""
      }
     },
     "af827271a3ca4bf18bf00fb543e602af": {
      "model_module": "@jupyter-widgets/controls",
      "model_module_version": "1.2.0",
      "model_name": "IntProgressModel",
      "state": {
       "bar_style": "success",
       "description": "Loading:",
       "layout": "IPY_MODEL_453391726bed4bdda49f6c9e01d68ed6",
       "max": 8,
       "style": "IPY_MODEL_e6b5ec6ad6784e289854bd385381026f"
      }
     },
     "b33c3134c2ae47e3914087eae02448d8": {
      "model_module": "@jupyter-widgets/controls",
      "model_module_version": "1.2.0",
      "model_name": "ButtonModel",
      "state": {
       "button_style": "success",
       "description": "start",
       "layout": "IPY_MODEL_e4e1defc9bf641f3a9e5cbc6063ab854",
       "style": "IPY_MODEL_e755460a7935415a9fca4c0565a496cc"
      }
     },
     "b3c4042d50aa40608ac6de28e65e1bb2": {
      "model_module": "@jupyter-widgets/base",
      "model_module_version": "1.0.0",
      "model_name": "LayoutModel",
      "state": {}
     },
     "b8294d05566343efb81506057d24fca8": {
      "model_module": "@jupyter-widgets/controls",
      "model_module_version": "1.2.0",
      "model_name": "HBoxModel",
      "state": {
       "children": [
        "IPY_MODEL_f043e124b6354806bf117abf2a47cfd9",
        "IPY_MODEL_2e0a7366732b4b4983b28f1a879b8e9b",
        "IPY_MODEL_65a9a71421bd427180335b80905e0f64"
       ],
       "layout": "IPY_MODEL_9b051971fb57457d9bdbb04bb0181c08"
      }
     },
     "bcf962aa25e8446a9cd87b5cee15d9b7": {
      "model_module": "@jupyter-widgets/base",
      "model_module_version": "1.0.0",
      "model_name": "LayoutModel",
      "state": {
       "visibility": "hidden"
      }
     },
     "bea37cdd42c443c48a590baa0ff02d64": {
      "model_module": "@jupyter-widgets/base",
      "model_module_version": "1.0.0",
      "model_name": "LayoutModel",
      "state": {
       "visibility": "hidden"
      }
     },
     "beb69ad583ee41c69b6d2a4b079f42ac": {
      "model_module": "@jupyter-widgets/base",
      "model_module_version": "1.0.0",
      "model_name": "LayoutModel",
      "state": {
       "visibility": "hidden"
      }
     },
     "bf46f552c2944537a957d2104d048a34": {
      "model_module": "@jupyter-widgets/controls",
      "model_module_version": "1.2.0",
      "model_name": "HBoxModel",
      "state": {
       "children": [
        "IPY_MODEL_f4bf650165a140ec8a78e6782e823f68",
        "IPY_MODEL_07b4aa59f360431abdc69516be5f76b8",
        "IPY_MODEL_9ceb5702a1c34cc38c811bac983c1430"
       ],
       "layout": "IPY_MODEL_0564707fdc1b4887ba547ea4e491b363"
      }
     },
     "c3a60ac38f4f43d6bbfc00bece3efd87": {
      "model_module": "@jupyter-widgets/controls",
      "model_module_version": "1.2.0",
      "model_name": "ProgressStyleModel",
      "state": {
       "description_width": ""
      }
     },
     "c73b8d0e115b46c18927836bbcea2048": {
      "model_module": "@jupyter-widgets/controls",
      "model_module_version": "1.2.0",
      "model_name": "HBoxModel",
      "state": {
       "children": [
        "IPY_MODEL_d78f01bebbc74e618df0dfc5baff6955",
        "IPY_MODEL_3379df2688284bd5ac8bf71afca185a8",
        "IPY_MODEL_3a37b71544404eafb9332848193ce486"
       ],
       "layout": "IPY_MODEL_0629063c43554c62afd97390e23cb41c"
      }
     },
     "d78f01bebbc74e618df0dfc5baff6955": {
      "model_module": "@jupyter-widgets/controls",
      "model_module_version": "1.2.0",
      "model_name": "ButtonModel",
      "state": {
       "button_style": "success",
       "description": "start",
       "layout": "IPY_MODEL_dece513f0a9248cba9e1c469006e8827",
       "style": "IPY_MODEL_9df4c392fc1240fa9226ad657da6f2c9"
      }
     },
     "d81515ee841244dd97aff0d1c3beb8f6": {
      "model_module": "@jupyter-widgets/controls",
      "model_module_version": "1.2.0",
      "model_name": "ButtonStyleModel",
      "state": {}
     },
     "dc38127cd5824fa2b9ed5da7b8ae96da": {
      "model_module": "@jupyter-widgets/controls",
      "model_module_version": "1.2.0",
      "model_name": "HBoxModel",
      "state": {
       "children": [
        "IPY_MODEL_001d365bc6644c458052db176e6a3538",
        "IPY_MODEL_05931830ec264c2c973f309048ba820a",
        "IPY_MODEL_aceaa3923afe4047a6e916d3bd819093"
       ],
       "layout": "IPY_MODEL_8e556f82b3474503969b068a88db7659"
      }
     },
     "dece513f0a9248cba9e1c469006e8827": {
      "model_module": "@jupyter-widgets/base",
      "model_module_version": "1.0.0",
      "model_name": "LayoutModel",
      "state": {}
     },
     "e17ebd5af6834224842b9289a6b39520": {
      "model_module": "@jupyter-widgets/controls",
      "model_module_version": "1.2.0",
      "model_name": "ButtonStyleModel",
      "state": {}
     },
     "e4e1defc9bf641f3a9e5cbc6063ab854": {
      "model_module": "@jupyter-widgets/base",
      "model_module_version": "1.0.0",
      "model_name": "LayoutModel",
      "state": {}
     },
     "e5f0379399be4b3684c07be48315f2f9": {
      "model_module": "@jupyter-widgets/base",
      "model_module_version": "1.0.0",
      "model_name": "LayoutModel",
      "state": {
       "visibility": "hidden"
      }
     },
     "e6b5ec6ad6784e289854bd385381026f": {
      "model_module": "@jupyter-widgets/controls",
      "model_module_version": "1.2.0",
      "model_name": "ProgressStyleModel",
      "state": {
       "description_width": ""
      }
     },
     "e755460a7935415a9fca4c0565a496cc": {
      "model_module": "@jupyter-widgets/controls",
      "model_module_version": "1.2.0",
      "model_name": "ButtonStyleModel",
      "state": {}
     },
     "e7752bac972c4e46bd385cabebe546e4": {
      "model_module": "@jupyter-widgets/controls",
      "model_module_version": "1.2.0",
      "model_name": "DescriptionStyleModel",
      "state": {
       "description_width": ""
      }
     },
     "eedd045de28446bebe62fdd29dd05bbe": {
      "model_module": "@jupyter-widgets/controls",
      "model_module_version": "1.2.0",
      "model_name": "DescriptionStyleModel",
      "state": {
       "description_width": ""
      }
     },
     "ef071c943eb84ce99ef5e0a138a4e054": {
      "model_module": "@jupyter-widgets/base",
      "model_module_version": "1.0.0",
      "model_name": "LayoutModel",
      "state": {
       "visibility": "hidden"
      }
     },
     "f043e124b6354806bf117abf2a47cfd9": {
      "model_module": "@jupyter-widgets/controls",
      "model_module_version": "1.2.0",
      "model_name": "ButtonModel",
      "state": {
       "button_style": "success",
       "description": "start",
       "layout": "IPY_MODEL_b3c4042d50aa40608ac6de28e65e1bb2",
       "style": "IPY_MODEL_874c320611a94bcd80531c4def86dcf9"
      }
     },
     "f4bf650165a140ec8a78e6782e823f68": {
      "model_module": "@jupyter-widgets/controls",
      "model_module_version": "1.2.0",
      "model_name": "ButtonModel",
      "state": {
       "button_style": "success",
       "description": "start",
       "layout": "IPY_MODEL_389bde7be15e4d5880eb9c336c82f31c",
       "style": "IPY_MODEL_e17ebd5af6834224842b9289a6b39520"
      }
     },
     "f84c5490054742c0afac1e1a3197f49f": {
      "model_module": "@jupyter-widgets/controls",
      "model_module_version": "1.2.0",
      "model_name": "ButtonModel",
      "state": {
       "button_style": "success",
       "description": "start",
       "layout": "IPY_MODEL_60a9331e10814ac08317bdc6c5089029",
       "style": "IPY_MODEL_1fc12b16b7cc4d0aad4b3bbf30d99800"
      }
     },
     "fb6d2d569ec24df3aa0a36bfeaf52298": {
      "model_module": "@jupyter-widgets/controls",
      "model_module_version": "1.2.0",
      "model_name": "DescriptionStyleModel",
      "state": {
       "description_width": ""
      }
     }
    },
    "version_major": 2,
    "version_minor": 0
   }
  }
 },
 "nbformat": 4,
 "nbformat_minor": 2
}
